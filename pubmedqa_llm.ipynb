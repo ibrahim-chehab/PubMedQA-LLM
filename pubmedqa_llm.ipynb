{
  "nbformat": 4,
  "nbformat_minor": 0,
  "metadata": {
    "colab": {
      "provenance": []
    },
    "kernelspec": {
      "name": "python3",
      "display_name": "Python 3"
    },
    "language_info": {
      "name": "python"
    },
    "widgets": {
      "application/vnd.jupyter.widget-state+json": {
        "0e3afb47ef8e423baeeff5bc6f6c9233": {
          "model_module": "@jupyter-widgets/controls",
          "model_name": "HBoxModel",
          "model_module_version": "1.5.0",
          "state": {
            "_dom_classes": [],
            "_model_module": "@jupyter-widgets/controls",
            "_model_module_version": "1.5.0",
            "_model_name": "HBoxModel",
            "_view_count": null,
            "_view_module": "@jupyter-widgets/controls",
            "_view_module_version": "1.5.0",
            "_view_name": "HBoxView",
            "box_style": "",
            "children": [
              "IPY_MODEL_1c16e75779ea46629f016d7f96e0541a",
              "IPY_MODEL_eda377936e5b4d0b881c978a567875d2",
              "IPY_MODEL_bdb9a566ff694eb9889a90d153641728"
            ],
            "layout": "IPY_MODEL_65ed91fd261e406bab5eeff031471be4"
          }
        },
        "1c16e75779ea46629f016d7f96e0541a": {
          "model_module": "@jupyter-widgets/controls",
          "model_name": "HTMLModel",
          "model_module_version": "1.5.0",
          "state": {
            "_dom_classes": [],
            "_model_module": "@jupyter-widgets/controls",
            "_model_module_version": "1.5.0",
            "_model_name": "HTMLModel",
            "_view_count": null,
            "_view_module": "@jupyter-widgets/controls",
            "_view_module_version": "1.5.0",
            "_view_name": "HTMLView",
            "description": "",
            "description_tooltip": null,
            "layout": "IPY_MODEL_9d32bc80e9fa4c6c81b38d304f5969eb",
            "placeholder": "​",
            "style": "IPY_MODEL_e4e6f007446447ce96e3f6f4db6b5bf8",
            "value": "README.md: 100%"
          }
        },
        "eda377936e5b4d0b881c978a567875d2": {
          "model_module": "@jupyter-widgets/controls",
          "model_name": "FloatProgressModel",
          "model_module_version": "1.5.0",
          "state": {
            "_dom_classes": [],
            "_model_module": "@jupyter-widgets/controls",
            "_model_module_version": "1.5.0",
            "_model_name": "FloatProgressModel",
            "_view_count": null,
            "_view_module": "@jupyter-widgets/controls",
            "_view_module_version": "1.5.0",
            "_view_name": "ProgressView",
            "bar_style": "success",
            "description": "",
            "description_tooltip": null,
            "layout": "IPY_MODEL_f81e9443cca14157beb592222f8fb5f9",
            "max": 5192,
            "min": 0,
            "orientation": "horizontal",
            "style": "IPY_MODEL_76c8d090626b4b6d8ee5f644941707cb",
            "value": 5192
          }
        },
        "bdb9a566ff694eb9889a90d153641728": {
          "model_module": "@jupyter-widgets/controls",
          "model_name": "HTMLModel",
          "model_module_version": "1.5.0",
          "state": {
            "_dom_classes": [],
            "_model_module": "@jupyter-widgets/controls",
            "_model_module_version": "1.5.0",
            "_model_name": "HTMLModel",
            "_view_count": null,
            "_view_module": "@jupyter-widgets/controls",
            "_view_module_version": "1.5.0",
            "_view_name": "HTMLView",
            "description": "",
            "description_tooltip": null,
            "layout": "IPY_MODEL_27f90282a3314460a92fca331b4813e4",
            "placeholder": "​",
            "style": "IPY_MODEL_8c41d8e1325b436db4949cfeb4a26cc8",
            "value": " 5.19k/5.19k [00:00&lt;00:00, 109kB/s]"
          }
        },
        "65ed91fd261e406bab5eeff031471be4": {
          "model_module": "@jupyter-widgets/base",
          "model_name": "LayoutModel",
          "model_module_version": "1.2.0",
          "state": {
            "_model_module": "@jupyter-widgets/base",
            "_model_module_version": "1.2.0",
            "_model_name": "LayoutModel",
            "_view_count": null,
            "_view_module": "@jupyter-widgets/base",
            "_view_module_version": "1.2.0",
            "_view_name": "LayoutView",
            "align_content": null,
            "align_items": null,
            "align_self": null,
            "border": null,
            "bottom": null,
            "display": null,
            "flex": null,
            "flex_flow": null,
            "grid_area": null,
            "grid_auto_columns": null,
            "grid_auto_flow": null,
            "grid_auto_rows": null,
            "grid_column": null,
            "grid_gap": null,
            "grid_row": null,
            "grid_template_areas": null,
            "grid_template_columns": null,
            "grid_template_rows": null,
            "height": null,
            "justify_content": null,
            "justify_items": null,
            "left": null,
            "margin": null,
            "max_height": null,
            "max_width": null,
            "min_height": null,
            "min_width": null,
            "object_fit": null,
            "object_position": null,
            "order": null,
            "overflow": null,
            "overflow_x": null,
            "overflow_y": null,
            "padding": null,
            "right": null,
            "top": null,
            "visibility": null,
            "width": null
          }
        },
        "9d32bc80e9fa4c6c81b38d304f5969eb": {
          "model_module": "@jupyter-widgets/base",
          "model_name": "LayoutModel",
          "model_module_version": "1.2.0",
          "state": {
            "_model_module": "@jupyter-widgets/base",
            "_model_module_version": "1.2.0",
            "_model_name": "LayoutModel",
            "_view_count": null,
            "_view_module": "@jupyter-widgets/base",
            "_view_module_version": "1.2.0",
            "_view_name": "LayoutView",
            "align_content": null,
            "align_items": null,
            "align_self": null,
            "border": null,
            "bottom": null,
            "display": null,
            "flex": null,
            "flex_flow": null,
            "grid_area": null,
            "grid_auto_columns": null,
            "grid_auto_flow": null,
            "grid_auto_rows": null,
            "grid_column": null,
            "grid_gap": null,
            "grid_row": null,
            "grid_template_areas": null,
            "grid_template_columns": null,
            "grid_template_rows": null,
            "height": null,
            "justify_content": null,
            "justify_items": null,
            "left": null,
            "margin": null,
            "max_height": null,
            "max_width": null,
            "min_height": null,
            "min_width": null,
            "object_fit": null,
            "object_position": null,
            "order": null,
            "overflow": null,
            "overflow_x": null,
            "overflow_y": null,
            "padding": null,
            "right": null,
            "top": null,
            "visibility": null,
            "width": null
          }
        },
        "e4e6f007446447ce96e3f6f4db6b5bf8": {
          "model_module": "@jupyter-widgets/controls",
          "model_name": "DescriptionStyleModel",
          "model_module_version": "1.5.0",
          "state": {
            "_model_module": "@jupyter-widgets/controls",
            "_model_module_version": "1.5.0",
            "_model_name": "DescriptionStyleModel",
            "_view_count": null,
            "_view_module": "@jupyter-widgets/base",
            "_view_module_version": "1.2.0",
            "_view_name": "StyleView",
            "description_width": ""
          }
        },
        "f81e9443cca14157beb592222f8fb5f9": {
          "model_module": "@jupyter-widgets/base",
          "model_name": "LayoutModel",
          "model_module_version": "1.2.0",
          "state": {
            "_model_module": "@jupyter-widgets/base",
            "_model_module_version": "1.2.0",
            "_model_name": "LayoutModel",
            "_view_count": null,
            "_view_module": "@jupyter-widgets/base",
            "_view_module_version": "1.2.0",
            "_view_name": "LayoutView",
            "align_content": null,
            "align_items": null,
            "align_self": null,
            "border": null,
            "bottom": null,
            "display": null,
            "flex": null,
            "flex_flow": null,
            "grid_area": null,
            "grid_auto_columns": null,
            "grid_auto_flow": null,
            "grid_auto_rows": null,
            "grid_column": null,
            "grid_gap": null,
            "grid_row": null,
            "grid_template_areas": null,
            "grid_template_columns": null,
            "grid_template_rows": null,
            "height": null,
            "justify_content": null,
            "justify_items": null,
            "left": null,
            "margin": null,
            "max_height": null,
            "max_width": null,
            "min_height": null,
            "min_width": null,
            "object_fit": null,
            "object_position": null,
            "order": null,
            "overflow": null,
            "overflow_x": null,
            "overflow_y": null,
            "padding": null,
            "right": null,
            "top": null,
            "visibility": null,
            "width": null
          }
        },
        "76c8d090626b4b6d8ee5f644941707cb": {
          "model_module": "@jupyter-widgets/controls",
          "model_name": "ProgressStyleModel",
          "model_module_version": "1.5.0",
          "state": {
            "_model_module": "@jupyter-widgets/controls",
            "_model_module_version": "1.5.0",
            "_model_name": "ProgressStyleModel",
            "_view_count": null,
            "_view_module": "@jupyter-widgets/base",
            "_view_module_version": "1.2.0",
            "_view_name": "StyleView",
            "bar_color": null,
            "description_width": ""
          }
        },
        "27f90282a3314460a92fca331b4813e4": {
          "model_module": "@jupyter-widgets/base",
          "model_name": "LayoutModel",
          "model_module_version": "1.2.0",
          "state": {
            "_model_module": "@jupyter-widgets/base",
            "_model_module_version": "1.2.0",
            "_model_name": "LayoutModel",
            "_view_count": null,
            "_view_module": "@jupyter-widgets/base",
            "_view_module_version": "1.2.0",
            "_view_name": "LayoutView",
            "align_content": null,
            "align_items": null,
            "align_self": null,
            "border": null,
            "bottom": null,
            "display": null,
            "flex": null,
            "flex_flow": null,
            "grid_area": null,
            "grid_auto_columns": null,
            "grid_auto_flow": null,
            "grid_auto_rows": null,
            "grid_column": null,
            "grid_gap": null,
            "grid_row": null,
            "grid_template_areas": null,
            "grid_template_columns": null,
            "grid_template_rows": null,
            "height": null,
            "justify_content": null,
            "justify_items": null,
            "left": null,
            "margin": null,
            "max_height": null,
            "max_width": null,
            "min_height": null,
            "min_width": null,
            "object_fit": null,
            "object_position": null,
            "order": null,
            "overflow": null,
            "overflow_x": null,
            "overflow_y": null,
            "padding": null,
            "right": null,
            "top": null,
            "visibility": null,
            "width": null
          }
        },
        "8c41d8e1325b436db4949cfeb4a26cc8": {
          "model_module": "@jupyter-widgets/controls",
          "model_name": "DescriptionStyleModel",
          "model_module_version": "1.5.0",
          "state": {
            "_model_module": "@jupyter-widgets/controls",
            "_model_module_version": "1.5.0",
            "_model_name": "DescriptionStyleModel",
            "_view_count": null,
            "_view_module": "@jupyter-widgets/base",
            "_view_module_version": "1.2.0",
            "_view_name": "StyleView",
            "description_width": ""
          }
        },
        "0e41d5b78ee44fe683f11d4eab3d83e0": {
          "model_module": "@jupyter-widgets/controls",
          "model_name": "HBoxModel",
          "model_module_version": "1.5.0",
          "state": {
            "_dom_classes": [],
            "_model_module": "@jupyter-widgets/controls",
            "_model_module_version": "1.5.0",
            "_model_name": "HBoxModel",
            "_view_count": null,
            "_view_module": "@jupyter-widgets/controls",
            "_view_module_version": "1.5.0",
            "_view_name": "HBoxView",
            "box_style": "",
            "children": [
              "IPY_MODEL_f045a8d59a83402bb023970a2624d815",
              "IPY_MODEL_004de6361ac94d6bba0fc56ef6610a19",
              "IPY_MODEL_0edfea28142c490fbf3d88c4c4e2a6f2"
            ],
            "layout": "IPY_MODEL_af96d9f6bd3e46c98ae114d4655a84cb"
          }
        },
        "f045a8d59a83402bb023970a2624d815": {
          "model_module": "@jupyter-widgets/controls",
          "model_name": "HTMLModel",
          "model_module_version": "1.5.0",
          "state": {
            "_dom_classes": [],
            "_model_module": "@jupyter-widgets/controls",
            "_model_module_version": "1.5.0",
            "_model_name": "HTMLModel",
            "_view_count": null,
            "_view_module": "@jupyter-widgets/controls",
            "_view_module_version": "1.5.0",
            "_view_name": "HTMLView",
            "description": "",
            "description_tooltip": null,
            "layout": "IPY_MODEL_ed2cc72452de42eb92cda695713a0cd3",
            "placeholder": "​",
            "style": "IPY_MODEL_2cbcf1ae448a4c9badba6f4c5df66b6c",
            "value": "train-00000-of-00001.parquet: 100%"
          }
        },
        "004de6361ac94d6bba0fc56ef6610a19": {
          "model_module": "@jupyter-widgets/controls",
          "model_name": "FloatProgressModel",
          "model_module_version": "1.5.0",
          "state": {
            "_dom_classes": [],
            "_model_module": "@jupyter-widgets/controls",
            "_model_module_version": "1.5.0",
            "_model_name": "FloatProgressModel",
            "_view_count": null,
            "_view_module": "@jupyter-widgets/controls",
            "_view_module_version": "1.5.0",
            "_view_name": "ProgressView",
            "bar_style": "success",
            "description": "",
            "description_tooltip": null,
            "layout": "IPY_MODEL_322174e33e884819a778ecda2d1e4ca9",
            "max": 233411194,
            "min": 0,
            "orientation": "horizontal",
            "style": "IPY_MODEL_dd3088453b3d466db639a417c18f379f",
            "value": 233411194
          }
        },
        "0edfea28142c490fbf3d88c4c4e2a6f2": {
          "model_module": "@jupyter-widgets/controls",
          "model_name": "HTMLModel",
          "model_module_version": "1.5.0",
          "state": {
            "_dom_classes": [],
            "_model_module": "@jupyter-widgets/controls",
            "_model_module_version": "1.5.0",
            "_model_name": "HTMLModel",
            "_view_count": null,
            "_view_module": "@jupyter-widgets/controls",
            "_view_module_version": "1.5.0",
            "_view_name": "HTMLView",
            "description": "",
            "description_tooltip": null,
            "layout": "IPY_MODEL_f75d3187670e4cc894fc99ebc29d3bd2",
            "placeholder": "​",
            "style": "IPY_MODEL_bb67c92e8ed44166afa191f3cff047ed",
            "value": " 233M/233M [00:05&lt;00:00, 43.7MB/s]"
          }
        },
        "af96d9f6bd3e46c98ae114d4655a84cb": {
          "model_module": "@jupyter-widgets/base",
          "model_name": "LayoutModel",
          "model_module_version": "1.2.0",
          "state": {
            "_model_module": "@jupyter-widgets/base",
            "_model_module_version": "1.2.0",
            "_model_name": "LayoutModel",
            "_view_count": null,
            "_view_module": "@jupyter-widgets/base",
            "_view_module_version": "1.2.0",
            "_view_name": "LayoutView",
            "align_content": null,
            "align_items": null,
            "align_self": null,
            "border": null,
            "bottom": null,
            "display": null,
            "flex": null,
            "flex_flow": null,
            "grid_area": null,
            "grid_auto_columns": null,
            "grid_auto_flow": null,
            "grid_auto_rows": null,
            "grid_column": null,
            "grid_gap": null,
            "grid_row": null,
            "grid_template_areas": null,
            "grid_template_columns": null,
            "grid_template_rows": null,
            "height": null,
            "justify_content": null,
            "justify_items": null,
            "left": null,
            "margin": null,
            "max_height": null,
            "max_width": null,
            "min_height": null,
            "min_width": null,
            "object_fit": null,
            "object_position": null,
            "order": null,
            "overflow": null,
            "overflow_x": null,
            "overflow_y": null,
            "padding": null,
            "right": null,
            "top": null,
            "visibility": null,
            "width": null
          }
        },
        "ed2cc72452de42eb92cda695713a0cd3": {
          "model_module": "@jupyter-widgets/base",
          "model_name": "LayoutModel",
          "model_module_version": "1.2.0",
          "state": {
            "_model_module": "@jupyter-widgets/base",
            "_model_module_version": "1.2.0",
            "_model_name": "LayoutModel",
            "_view_count": null,
            "_view_module": "@jupyter-widgets/base",
            "_view_module_version": "1.2.0",
            "_view_name": "LayoutView",
            "align_content": null,
            "align_items": null,
            "align_self": null,
            "border": null,
            "bottom": null,
            "display": null,
            "flex": null,
            "flex_flow": null,
            "grid_area": null,
            "grid_auto_columns": null,
            "grid_auto_flow": null,
            "grid_auto_rows": null,
            "grid_column": null,
            "grid_gap": null,
            "grid_row": null,
            "grid_template_areas": null,
            "grid_template_columns": null,
            "grid_template_rows": null,
            "height": null,
            "justify_content": null,
            "justify_items": null,
            "left": null,
            "margin": null,
            "max_height": null,
            "max_width": null,
            "min_height": null,
            "min_width": null,
            "object_fit": null,
            "object_position": null,
            "order": null,
            "overflow": null,
            "overflow_x": null,
            "overflow_y": null,
            "padding": null,
            "right": null,
            "top": null,
            "visibility": null,
            "width": null
          }
        },
        "2cbcf1ae448a4c9badba6f4c5df66b6c": {
          "model_module": "@jupyter-widgets/controls",
          "model_name": "DescriptionStyleModel",
          "model_module_version": "1.5.0",
          "state": {
            "_model_module": "@jupyter-widgets/controls",
            "_model_module_version": "1.5.0",
            "_model_name": "DescriptionStyleModel",
            "_view_count": null,
            "_view_module": "@jupyter-widgets/base",
            "_view_module_version": "1.2.0",
            "_view_name": "StyleView",
            "description_width": ""
          }
        },
        "322174e33e884819a778ecda2d1e4ca9": {
          "model_module": "@jupyter-widgets/base",
          "model_name": "LayoutModel",
          "model_module_version": "1.2.0",
          "state": {
            "_model_module": "@jupyter-widgets/base",
            "_model_module_version": "1.2.0",
            "_model_name": "LayoutModel",
            "_view_count": null,
            "_view_module": "@jupyter-widgets/base",
            "_view_module_version": "1.2.0",
            "_view_name": "LayoutView",
            "align_content": null,
            "align_items": null,
            "align_self": null,
            "border": null,
            "bottom": null,
            "display": null,
            "flex": null,
            "flex_flow": null,
            "grid_area": null,
            "grid_auto_columns": null,
            "grid_auto_flow": null,
            "grid_auto_rows": null,
            "grid_column": null,
            "grid_gap": null,
            "grid_row": null,
            "grid_template_areas": null,
            "grid_template_columns": null,
            "grid_template_rows": null,
            "height": null,
            "justify_content": null,
            "justify_items": null,
            "left": null,
            "margin": null,
            "max_height": null,
            "max_width": null,
            "min_height": null,
            "min_width": null,
            "object_fit": null,
            "object_position": null,
            "order": null,
            "overflow": null,
            "overflow_x": null,
            "overflow_y": null,
            "padding": null,
            "right": null,
            "top": null,
            "visibility": null,
            "width": null
          }
        },
        "dd3088453b3d466db639a417c18f379f": {
          "model_module": "@jupyter-widgets/controls",
          "model_name": "ProgressStyleModel",
          "model_module_version": "1.5.0",
          "state": {
            "_model_module": "@jupyter-widgets/controls",
            "_model_module_version": "1.5.0",
            "_model_name": "ProgressStyleModel",
            "_view_count": null,
            "_view_module": "@jupyter-widgets/base",
            "_view_module_version": "1.2.0",
            "_view_name": "StyleView",
            "bar_color": null,
            "description_width": ""
          }
        },
        "f75d3187670e4cc894fc99ebc29d3bd2": {
          "model_module": "@jupyter-widgets/base",
          "model_name": "LayoutModel",
          "model_module_version": "1.2.0",
          "state": {
            "_model_module": "@jupyter-widgets/base",
            "_model_module_version": "1.2.0",
            "_model_name": "LayoutModel",
            "_view_count": null,
            "_view_module": "@jupyter-widgets/base",
            "_view_module_version": "1.2.0",
            "_view_name": "LayoutView",
            "align_content": null,
            "align_items": null,
            "align_self": null,
            "border": null,
            "bottom": null,
            "display": null,
            "flex": null,
            "flex_flow": null,
            "grid_area": null,
            "grid_auto_columns": null,
            "grid_auto_flow": null,
            "grid_auto_rows": null,
            "grid_column": null,
            "grid_gap": null,
            "grid_row": null,
            "grid_template_areas": null,
            "grid_template_columns": null,
            "grid_template_rows": null,
            "height": null,
            "justify_content": null,
            "justify_items": null,
            "left": null,
            "margin": null,
            "max_height": null,
            "max_width": null,
            "min_height": null,
            "min_width": null,
            "object_fit": null,
            "object_position": null,
            "order": null,
            "overflow": null,
            "overflow_x": null,
            "overflow_y": null,
            "padding": null,
            "right": null,
            "top": null,
            "visibility": null,
            "width": null
          }
        },
        "bb67c92e8ed44166afa191f3cff047ed": {
          "model_module": "@jupyter-widgets/controls",
          "model_name": "DescriptionStyleModel",
          "model_module_version": "1.5.0",
          "state": {
            "_model_module": "@jupyter-widgets/controls",
            "_model_module_version": "1.5.0",
            "_model_name": "DescriptionStyleModel",
            "_view_count": null,
            "_view_module": "@jupyter-widgets/base",
            "_view_module_version": "1.2.0",
            "_view_name": "StyleView",
            "description_width": ""
          }
        },
        "d338241cc9df4fa885c126164aa34300": {
          "model_module": "@jupyter-widgets/controls",
          "model_name": "HBoxModel",
          "model_module_version": "1.5.0",
          "state": {
            "_dom_classes": [],
            "_model_module": "@jupyter-widgets/controls",
            "_model_module_version": "1.5.0",
            "_model_name": "HBoxModel",
            "_view_count": null,
            "_view_module": "@jupyter-widgets/controls",
            "_view_module_version": "1.5.0",
            "_view_name": "HBoxView",
            "box_style": "",
            "children": [
              "IPY_MODEL_0174f694411044039c941393d0348d5f",
              "IPY_MODEL_88bbf2de34cd4644a9838c3a6e0b5510",
              "IPY_MODEL_e7690836b35f4ead997afcd42e35843c"
            ],
            "layout": "IPY_MODEL_33f2cebeb40549a78c58b938e0f8cf79"
          }
        },
        "0174f694411044039c941393d0348d5f": {
          "model_module": "@jupyter-widgets/controls",
          "model_name": "HTMLModel",
          "model_module_version": "1.5.0",
          "state": {
            "_dom_classes": [],
            "_model_module": "@jupyter-widgets/controls",
            "_model_module_version": "1.5.0",
            "_model_name": "HTMLModel",
            "_view_count": null,
            "_view_module": "@jupyter-widgets/controls",
            "_view_module_version": "1.5.0",
            "_view_name": "HTMLView",
            "description": "",
            "description_tooltip": null,
            "layout": "IPY_MODEL_c2095dca042546b7a3181c15add445a1",
            "placeholder": "​",
            "style": "IPY_MODEL_5131662aecfc4454b09f1f08da8a7d38",
            "value": "Generating train split: 100%"
          }
        },
        "88bbf2de34cd4644a9838c3a6e0b5510": {
          "model_module": "@jupyter-widgets/controls",
          "model_name": "FloatProgressModel",
          "model_module_version": "1.5.0",
          "state": {
            "_dom_classes": [],
            "_model_module": "@jupyter-widgets/controls",
            "_model_module_version": "1.5.0",
            "_model_name": "FloatProgressModel",
            "_view_count": null,
            "_view_module": "@jupyter-widgets/controls",
            "_view_module_version": "1.5.0",
            "_view_name": "ProgressView",
            "bar_style": "success",
            "description": "",
            "description_tooltip": null,
            "layout": "IPY_MODEL_a69e8006e19e4972b1f7fe03a992c414",
            "max": 211269,
            "min": 0,
            "orientation": "horizontal",
            "style": "IPY_MODEL_a0be0911417c4264829fb90a9b60ee59",
            "value": 211269
          }
        },
        "e7690836b35f4ead997afcd42e35843c": {
          "model_module": "@jupyter-widgets/controls",
          "model_name": "HTMLModel",
          "model_module_version": "1.5.0",
          "state": {
            "_dom_classes": [],
            "_model_module": "@jupyter-widgets/controls",
            "_model_module_version": "1.5.0",
            "_model_name": "HTMLModel",
            "_view_count": null,
            "_view_module": "@jupyter-widgets/controls",
            "_view_module_version": "1.5.0",
            "_view_name": "HTMLView",
            "description": "",
            "description_tooltip": null,
            "layout": "IPY_MODEL_ca92b0518a99400a9862a679b8f8dc9f",
            "placeholder": "​",
            "style": "IPY_MODEL_65be5189a97f4af7b4b496f5047e11da",
            "value": " 211269/211269 [00:04&lt;00:00, 75170.87 examples/s]"
          }
        },
        "33f2cebeb40549a78c58b938e0f8cf79": {
          "model_module": "@jupyter-widgets/base",
          "model_name": "LayoutModel",
          "model_module_version": "1.2.0",
          "state": {
            "_model_module": "@jupyter-widgets/base",
            "_model_module_version": "1.2.0",
            "_model_name": "LayoutModel",
            "_view_count": null,
            "_view_module": "@jupyter-widgets/base",
            "_view_module_version": "1.2.0",
            "_view_name": "LayoutView",
            "align_content": null,
            "align_items": null,
            "align_self": null,
            "border": null,
            "bottom": null,
            "display": null,
            "flex": null,
            "flex_flow": null,
            "grid_area": null,
            "grid_auto_columns": null,
            "grid_auto_flow": null,
            "grid_auto_rows": null,
            "grid_column": null,
            "grid_gap": null,
            "grid_row": null,
            "grid_template_areas": null,
            "grid_template_columns": null,
            "grid_template_rows": null,
            "height": null,
            "justify_content": null,
            "justify_items": null,
            "left": null,
            "margin": null,
            "max_height": null,
            "max_width": null,
            "min_height": null,
            "min_width": null,
            "object_fit": null,
            "object_position": null,
            "order": null,
            "overflow": null,
            "overflow_x": null,
            "overflow_y": null,
            "padding": null,
            "right": null,
            "top": null,
            "visibility": null,
            "width": null
          }
        },
        "c2095dca042546b7a3181c15add445a1": {
          "model_module": "@jupyter-widgets/base",
          "model_name": "LayoutModel",
          "model_module_version": "1.2.0",
          "state": {
            "_model_module": "@jupyter-widgets/base",
            "_model_module_version": "1.2.0",
            "_model_name": "LayoutModel",
            "_view_count": null,
            "_view_module": "@jupyter-widgets/base",
            "_view_module_version": "1.2.0",
            "_view_name": "LayoutView",
            "align_content": null,
            "align_items": null,
            "align_self": null,
            "border": null,
            "bottom": null,
            "display": null,
            "flex": null,
            "flex_flow": null,
            "grid_area": null,
            "grid_auto_columns": null,
            "grid_auto_flow": null,
            "grid_auto_rows": null,
            "grid_column": null,
            "grid_gap": null,
            "grid_row": null,
            "grid_template_areas": null,
            "grid_template_columns": null,
            "grid_template_rows": null,
            "height": null,
            "justify_content": null,
            "justify_items": null,
            "left": null,
            "margin": null,
            "max_height": null,
            "max_width": null,
            "min_height": null,
            "min_width": null,
            "object_fit": null,
            "object_position": null,
            "order": null,
            "overflow": null,
            "overflow_x": null,
            "overflow_y": null,
            "padding": null,
            "right": null,
            "top": null,
            "visibility": null,
            "width": null
          }
        },
        "5131662aecfc4454b09f1f08da8a7d38": {
          "model_module": "@jupyter-widgets/controls",
          "model_name": "DescriptionStyleModel",
          "model_module_version": "1.5.0",
          "state": {
            "_model_module": "@jupyter-widgets/controls",
            "_model_module_version": "1.5.0",
            "_model_name": "DescriptionStyleModel",
            "_view_count": null,
            "_view_module": "@jupyter-widgets/base",
            "_view_module_version": "1.2.0",
            "_view_name": "StyleView",
            "description_width": ""
          }
        },
        "a69e8006e19e4972b1f7fe03a992c414": {
          "model_module": "@jupyter-widgets/base",
          "model_name": "LayoutModel",
          "model_module_version": "1.2.0",
          "state": {
            "_model_module": "@jupyter-widgets/base",
            "_model_module_version": "1.2.0",
            "_model_name": "LayoutModel",
            "_view_count": null,
            "_view_module": "@jupyter-widgets/base",
            "_view_module_version": "1.2.0",
            "_view_name": "LayoutView",
            "align_content": null,
            "align_items": null,
            "align_self": null,
            "border": null,
            "bottom": null,
            "display": null,
            "flex": null,
            "flex_flow": null,
            "grid_area": null,
            "grid_auto_columns": null,
            "grid_auto_flow": null,
            "grid_auto_rows": null,
            "grid_column": null,
            "grid_gap": null,
            "grid_row": null,
            "grid_template_areas": null,
            "grid_template_columns": null,
            "grid_template_rows": null,
            "height": null,
            "justify_content": null,
            "justify_items": null,
            "left": null,
            "margin": null,
            "max_height": null,
            "max_width": null,
            "min_height": null,
            "min_width": null,
            "object_fit": null,
            "object_position": null,
            "order": null,
            "overflow": null,
            "overflow_x": null,
            "overflow_y": null,
            "padding": null,
            "right": null,
            "top": null,
            "visibility": null,
            "width": null
          }
        },
        "a0be0911417c4264829fb90a9b60ee59": {
          "model_module": "@jupyter-widgets/controls",
          "model_name": "ProgressStyleModel",
          "model_module_version": "1.5.0",
          "state": {
            "_model_module": "@jupyter-widgets/controls",
            "_model_module_version": "1.5.0",
            "_model_name": "ProgressStyleModel",
            "_view_count": null,
            "_view_module": "@jupyter-widgets/base",
            "_view_module_version": "1.2.0",
            "_view_name": "StyleView",
            "bar_color": null,
            "description_width": ""
          }
        },
        "ca92b0518a99400a9862a679b8f8dc9f": {
          "model_module": "@jupyter-widgets/base",
          "model_name": "LayoutModel",
          "model_module_version": "1.2.0",
          "state": {
            "_model_module": "@jupyter-widgets/base",
            "_model_module_version": "1.2.0",
            "_model_name": "LayoutModel",
            "_view_count": null,
            "_view_module": "@jupyter-widgets/base",
            "_view_module_version": "1.2.0",
            "_view_name": "LayoutView",
            "align_content": null,
            "align_items": null,
            "align_self": null,
            "border": null,
            "bottom": null,
            "display": null,
            "flex": null,
            "flex_flow": null,
            "grid_area": null,
            "grid_auto_columns": null,
            "grid_auto_flow": null,
            "grid_auto_rows": null,
            "grid_column": null,
            "grid_gap": null,
            "grid_row": null,
            "grid_template_areas": null,
            "grid_template_columns": null,
            "grid_template_rows": null,
            "height": null,
            "justify_content": null,
            "justify_items": null,
            "left": null,
            "margin": null,
            "max_height": null,
            "max_width": null,
            "min_height": null,
            "min_width": null,
            "object_fit": null,
            "object_position": null,
            "order": null,
            "overflow": null,
            "overflow_x": null,
            "overflow_y": null,
            "padding": null,
            "right": null,
            "top": null,
            "visibility": null,
            "width": null
          }
        },
        "65be5189a97f4af7b4b496f5047e11da": {
          "model_module": "@jupyter-widgets/controls",
          "model_name": "DescriptionStyleModel",
          "model_module_version": "1.5.0",
          "state": {
            "_model_module": "@jupyter-widgets/controls",
            "_model_module_version": "1.5.0",
            "_model_name": "DescriptionStyleModel",
            "_view_count": null,
            "_view_module": "@jupyter-widgets/base",
            "_view_module_version": "1.2.0",
            "_view_name": "StyleView",
            "description_width": ""
          }
        }
      }
    }
  },
  "cells": [
    {
      "cell_type": "markdown",
      "source": [
        "### Install packages"
      ],
      "metadata": {
        "id": "CXm5a3tutCaf"
      }
    },
    {
      "cell_type": "code",
      "execution_count": 2,
      "metadata": {
        "colab": {
          "base_uri": "https://localhost:8080/"
        },
        "id": "NDdXWe6yUdRS",
        "outputId": "f0f0f23a-75ab-4f9b-dd4d-c3705431c86d"
      },
      "outputs": [
        {
          "output_type": "stream",
          "name": "stdout",
          "text": [
            "\u001b[31mERROR: pip's dependency resolver does not currently take into account all the packages that are installed. This behaviour is the source of the following dependency conflicts.\n",
            "pinecone 5.4.2 requires pinecone-plugin-inference<4.0.0,>=2.0.0, but you have pinecone-plugin-inference 1.1.0 which is incompatible.\u001b[0m\u001b[31m\n",
            "\u001b[0m\u001b[31mERROR: pip's dependency resolver does not currently take into account all the packages that are installed. This behaviour is the source of the following dependency conflicts.\n",
            "pinecone-client 5.0.1 requires pinecone-plugin-inference<2.0.0,>=1.0.3, but you have pinecone-plugin-inference 3.1.0 which is incompatible.\u001b[0m\u001b[31m\n",
            "\u001b[0m"
          ]
        }
      ],
      "source": [
        "!pip install -qU datasets transformers pinecone-client langchain openai\n",
        "!pip install -qU langchain-pinecone pinecone-notebooks\n",
        "!pip install -qU langchain-openai\n",
        "!pip install -qU langchain_community\n",
        "!pip install -qU tqdm"
      ]
    },
    {
      "cell_type": "markdown",
      "source": [
        "### Load dataset"
      ],
      "metadata": {
        "id": "T2MK6wOAtL3i"
      }
    },
    {
      "cell_type": "code",
      "source": [
        "from datasets import load_dataset\n",
        "\n",
        "ds = load_dataset(\"qiaojin/PubMedQA\", \"pqa_artificial\")\n",
        "\n",
        "print(ds)"
      ],
      "metadata": {
        "colab": {
          "base_uri": "https://localhost:8080/",
          "height": 346,
          "referenced_widgets": [
            "0e3afb47ef8e423baeeff5bc6f6c9233",
            "1c16e75779ea46629f016d7f96e0541a",
            "eda377936e5b4d0b881c978a567875d2",
            "bdb9a566ff694eb9889a90d153641728",
            "65ed91fd261e406bab5eeff031471be4",
            "9d32bc80e9fa4c6c81b38d304f5969eb",
            "e4e6f007446447ce96e3f6f4db6b5bf8",
            "f81e9443cca14157beb592222f8fb5f9",
            "76c8d090626b4b6d8ee5f644941707cb",
            "27f90282a3314460a92fca331b4813e4",
            "8c41d8e1325b436db4949cfeb4a26cc8",
            "0e41d5b78ee44fe683f11d4eab3d83e0",
            "f045a8d59a83402bb023970a2624d815",
            "004de6361ac94d6bba0fc56ef6610a19",
            "0edfea28142c490fbf3d88c4c4e2a6f2",
            "af96d9f6bd3e46c98ae114d4655a84cb",
            "ed2cc72452de42eb92cda695713a0cd3",
            "2cbcf1ae448a4c9badba6f4c5df66b6c",
            "322174e33e884819a778ecda2d1e4ca9",
            "dd3088453b3d466db639a417c18f379f",
            "f75d3187670e4cc894fc99ebc29d3bd2",
            "bb67c92e8ed44166afa191f3cff047ed",
            "d338241cc9df4fa885c126164aa34300",
            "0174f694411044039c941393d0348d5f",
            "88bbf2de34cd4644a9838c3a6e0b5510",
            "e7690836b35f4ead997afcd42e35843c",
            "33f2cebeb40549a78c58b938e0f8cf79",
            "c2095dca042546b7a3181c15add445a1",
            "5131662aecfc4454b09f1f08da8a7d38",
            "a69e8006e19e4972b1f7fe03a992c414",
            "a0be0911417c4264829fb90a9b60ee59",
            "ca92b0518a99400a9862a679b8f8dc9f",
            "65be5189a97f4af7b4b496f5047e11da"
          ]
        },
        "id": "efC-4kdcUgdW",
        "outputId": "0045650d-c233-482b-9e60-1a4f65a9f11c"
      },
      "execution_count": 3,
      "outputs": [
        {
          "output_type": "stream",
          "name": "stderr",
          "text": [
            "/usr/local/lib/python3.11/dist-packages/huggingface_hub/utils/_auth.py:94: UserWarning: \n",
            "The secret `HF_TOKEN` does not exist in your Colab secrets.\n",
            "To authenticate with the Hugging Face Hub, create a token in your settings tab (https://huggingface.co/settings/tokens), set it as secret in your Google Colab and restart your session.\n",
            "You will be able to reuse this secret in all of your notebooks.\n",
            "Please note that authentication is recommended but still optional to access public models or datasets.\n",
            "  warnings.warn(\n"
          ]
        },
        {
          "output_type": "display_data",
          "data": {
            "text/plain": [
              "README.md:   0%|          | 0.00/5.19k [00:00<?, ?B/s]"
            ],
            "application/vnd.jupyter.widget-view+json": {
              "version_major": 2,
              "version_minor": 0,
              "model_id": "0e3afb47ef8e423baeeff5bc6f6c9233"
            }
          },
          "metadata": {}
        },
        {
          "output_type": "display_data",
          "data": {
            "text/plain": [
              "train-00000-of-00001.parquet:   0%|          | 0.00/233M [00:00<?, ?B/s]"
            ],
            "application/vnd.jupyter.widget-view+json": {
              "version_major": 2,
              "version_minor": 0,
              "model_id": "0e41d5b78ee44fe683f11d4eab3d83e0"
            }
          },
          "metadata": {}
        },
        {
          "output_type": "display_data",
          "data": {
            "text/plain": [
              "Generating train split:   0%|          | 0/211269 [00:00<?, ? examples/s]"
            ],
            "application/vnd.jupyter.widget-view+json": {
              "version_major": 2,
              "version_minor": 0,
              "model_id": "d338241cc9df4fa885c126164aa34300"
            }
          },
          "metadata": {}
        },
        {
          "output_type": "stream",
          "name": "stdout",
          "text": [
            "DatasetDict({\n",
            "    train: Dataset({\n",
            "        features: ['pubid', 'question', 'context', 'long_answer', 'final_decision'],\n",
            "        num_rows: 211269\n",
            "    })\n",
            "})\n"
          ]
        }
      ]
    },
    {
      "cell_type": "code",
      "source": [
        "print(ds['train'])"
      ],
      "metadata": {
        "colab": {
          "base_uri": "https://localhost:8080/"
        },
        "id": "z1MEeHuJU-B1",
        "outputId": "1c144e30-ae85-45c8-e233-ddbf030b7463"
      },
      "execution_count": 7,
      "outputs": [
        {
          "output_type": "stream",
          "name": "stdout",
          "text": [
            "Dataset({\n",
            "    features: ['pubid', 'question', 'context', 'long_answer', 'final_decision'],\n",
            "    num_rows: 211269\n",
            "})\n"
          ]
        }
      ]
    },
    {
      "cell_type": "code",
      "source": [
        "print(ds['train'][0])"
      ],
      "metadata": {
        "colab": {
          "base_uri": "https://localhost:8080/"
        },
        "id": "wP83kFNsVd4h",
        "outputId": "58460169-b7ad-45be-f720-f6cebf9c8f1b"
      },
      "execution_count": 8,
      "outputs": [
        {
          "output_type": "stream",
          "name": "stdout",
          "text": [
            "{'pubid': 25429730, 'question': 'Are group 2 innate lymphoid cells ( ILC2s ) increased in chronic rhinosinusitis with nasal polyps or eosinophilia?', 'context': {'contexts': ['Chronic rhinosinusitis (CRS) is a heterogeneous disease with an uncertain pathogenesis. Group 2 innate lymphoid cells (ILC2s) represent a recently discovered cell population which has been implicated in driving Th2 inflammation in CRS; however, their relationship with clinical disease characteristics has yet to be investigated.', 'The aim of this study was to identify ILC2s in sinus mucosa in patients with CRS and controls and compare ILC2s across characteristics of disease.', 'A cross-sectional study of patients with CRS undergoing endoscopic sinus surgery was conducted. Sinus mucosal biopsies were obtained during surgery and control tissue from patients undergoing pituitary tumour resection through transphenoidal approach. ILC2s were identified as CD45(+) Lin(-) CD127(+) CD4(-) CD8(-) CRTH2(CD294)(+) CD161(+) cells in single cell suspensions through flow cytometry. ILC2 frequencies, measured as a percentage of CD45(+) cells, were compared across CRS phenotype, endotype, inflammatory CRS subtype and other disease characteristics including blood eosinophils, serum IgE, asthma status and nasal symptom score.', '35 patients (40% female, age 48 ± 17 years) including 13 with eosinophilic CRS (eCRS), 13 with non-eCRS and 9 controls were recruited. ILC2 frequencies were associated with the presence of nasal polyps (P = 0.002) as well as high tissue eosinophilia (P = 0.004) and eosinophil-dominant CRS (P = 0.001) (Mann-Whitney U). They were also associated with increased blood eosinophilia (P = 0.005). There were no significant associations found between ILC2s and serum total IgE and allergic disease. In the CRS with nasal polyps (CRSwNP) population, ILC2s were increased in patients with co-existing asthma (P = 0.03). ILC2s were also correlated with worsening nasal symptom score in CRS (P = 0.04).'], 'labels': ['BACKGROUND', 'OBJECTIVE', 'METHODS', 'RESULTS'], 'meshes': ['Adult', 'Aged', 'Antigens, Surface', 'Case-Control Studies', 'Chronic Disease', 'Eosinophilia', 'Female', 'Humans', 'Hypersensitivity', 'Immunity, Innate', 'Immunoglobulin E', 'Immunophenotyping', 'Leukocyte Count', 'Lymphocyte Subsets', 'Male', 'Middle Aged', 'Nasal Mucosa', 'Nasal Polyps', 'Neutrophil Infiltration', 'Patient Outcome Assessment', 'Rhinitis', 'Sinusitis', 'Young Adult']}, 'long_answer': 'As ILC2s are elevated in patients with CRSwNP, they may drive nasal polyp formation in CRS. ILC2s are also linked with high tissue and blood eosinophilia and have a potential role in the activation and survival of eosinophils during the Th2 immune response. The association of innate lymphoid cells in CRS provides insights into its pathogenesis.', 'final_decision': 'yes'}\n"
          ]
        }
      ]
    },
    {
      "cell_type": "code",
      "source": [
        "print(ds['train'][0]['context'].keys())"
      ],
      "metadata": {
        "colab": {
          "base_uri": "https://localhost:8080/"
        },
        "id": "XawYmW_0sDmB",
        "outputId": "55b30fc9-15c2-4cc0-fcaf-da582ec21286"
      },
      "execution_count": 24,
      "outputs": [
        {
          "output_type": "stream",
          "name": "stdout",
          "text": [
            "dict_keys(['contexts', 'labels', 'meshes'])\n"
          ]
        }
      ]
    },
    {
      "cell_type": "code",
      "source": [
        "train_data = ds['train']"
      ],
      "metadata": {
        "id": "kneKKmL6Vlze"
      },
      "execution_count": 9,
      "outputs": []
    },
    {
      "cell_type": "code",
      "source": [
        "def preprocess(item):\n",
        "    context = \" \".join(item[\"context\"][\"contexts\"])\n",
        "    return {\n",
        "        \"id\": item[\"pubid\"],\n",
        "        \"question\": item[\"question\"],\n",
        "        \"context\": context,\n",
        "        \"labels\": item[\"context\"][\"labels\"],\n",
        "        \"meshes\": item[\"context\"][\"meshes\"],\n",
        "        \"answer\": item[\"long_answer\"]  # Use long_answer for training or retrieval\n",
        "    }\n",
        "\n",
        "# Apply preprocessing\n",
        "processed_data = train_data.map(preprocess)\n",
        "\n",
        "processed_data = processed_data.remove_columns([\"pubid\", \"long_answer\"])\n",
        "\n",
        "processed_data"
      ],
      "metadata": {
        "colab": {
          "base_uri": "https://localhost:8080/"
        },
        "id": "z63uiRw9Vox-",
        "outputId": "6968491f-25e7-43d8-f8e3-fd49e0ad1129"
      },
      "execution_count": 30,
      "outputs": [
        {
          "output_type": "execute_result",
          "data": {
            "text/plain": [
              "Dataset({\n",
              "    features: ['question', 'context', 'final_decision', 'id', 'labels', 'meshes', 'answer'],\n",
              "    num_rows: 211269\n",
              "})"
            ]
          },
          "metadata": {},
          "execution_count": 30
        }
      ]
    },
    {
      "cell_type": "code",
      "source": [
        "processed_data[1000]['context'].keys()"
      ],
      "metadata": {
        "colab": {
          "base_uri": "https://localhost:8080/"
        },
        "id": "7dP-cQSgqVFz",
        "outputId": "9fd0322a-4069-434d-df2d-50dadfa73744"
      },
      "execution_count": 15,
      "outputs": [
        {
          "output_type": "execute_result",
          "data": {
            "text/plain": [
              "dict_keys(['contexts', 'labels', 'meshes'])"
            ]
          },
          "metadata": {},
          "execution_count": 15
        }
      ]
    },
    {
      "cell_type": "markdown",
      "source": [
        "### Create and connect pinecone index"
      ],
      "metadata": {
        "id": "iIBm1Unhtbs6"
      }
    },
    {
      "cell_type": "code",
      "source": [
        "from google.colab import userdata"
      ],
      "metadata": {
        "id": "TI63vVcbowwt"
      },
      "execution_count": 16,
      "outputs": []
    },
    {
      "cell_type": "code",
      "source": [
        "import time\n",
        "from pinecone import Pinecone, ServerlessSpec\n",
        "\n",
        "pc = Pinecone(api_key=userdata.get('PINECONE_API_KEY'))\n",
        "\n",
        "index_name = \"llm-assignment\"\n",
        "if index_name not in pc.list_indexes().names():\n",
        "        pc.create_index(\n",
        "            name=index_name,\n",
        "            dimension=1536,\n",
        "            metric='cosine',\n",
        "            spec=ServerlessSpec(\n",
        "                cloud='aws',\n",
        "                region='us-east-1'\n",
        "            )\n",
        "        )\n",
        "        while not pc.describe_index(index_name).status[\"ready\"]:\n",
        "          time.sleep(1)\n",
        "\n",
        "index = pc.Index(index_name)"
      ],
      "metadata": {
        "id": "OzWEYHELV8m5"
      },
      "execution_count": 17,
      "outputs": []
    },
    {
      "cell_type": "markdown",
      "source": [
        "### Generate embeddings"
      ],
      "metadata": {
        "id": "khMlQO67tpJg"
      }
    },
    {
      "cell_type": "code",
      "source": [
        "from openai import OpenAI\n",
        "# OpenAI.api_key = userdata.get('OPENAI_API_KEY')\n",
        "client = OpenAI(api_key = userdata.get('OPENAI_API_KEY'))"
      ],
      "metadata": {
        "id": "15B41iTC3OdN"
      },
      "execution_count": 18,
      "outputs": []
    },
    {
      "cell_type": "code",
      "source": [
        "# openai.api_key = userdata.get('OPENAI_API_KEY')"
      ],
      "metadata": {
        "id": "FF8nee3r3Rpd"
      },
      "execution_count": null,
      "outputs": []
    },
    {
      "cell_type": "code",
      "source": [
        "# Generate an ID\n",
        "currentId = 0;\n",
        "def nextId():\n",
        "  global currentId\n",
        "  currentId += 1\n",
        "  return f\"{currentId}\""
      ],
      "metadata": {
        "id": "1pgr9u-Qwx17"
      },
      "execution_count": 19,
      "outputs": []
    },
    {
      "cell_type": "code",
      "source": [
        "# def generate_embedding(text):\n",
        "#     response = client.embeddings.create(\n",
        "#         input=text,\n",
        "#         model=\"text-embedding-3-small\",\n",
        "#         encoding_format=\"float\"\n",
        "#     )\n",
        "#     return response.data[0].embedding"
      ],
      "metadata": {
        "id": "EgPJWnoBCQHd"
      },
      "execution_count": null,
      "outputs": []
    },
    {
      "cell_type": "code",
      "source": [
        "# for item in processed_data:\n",
        "#     for context in item['context']['contexts']:\n",
        "#         vector = generate_embedding(context)\n",
        "#         metadata = {\"question\": item[\"question\"], \"answer\": item[\"answer\"]}\n",
        "#         index.upsert([(nextId(), vector, metadata)])"
      ],
      "metadata": {
        "id": "pE-7HOkzuGjb"
      },
      "execution_count": null,
      "outputs": []
    },
    {
      "cell_type": "markdown",
      "source": [
        "### Faster way for embedding"
      ],
      "metadata": {
        "id": "F49DwYQwBSBd"
      }
    },
    {
      "cell_type": "code",
      "source": [
        "from tqdm import tqdm"
      ],
      "metadata": {
        "id": "O4dep9GkBBJP"
      },
      "execution_count": 20,
      "outputs": []
    },
    {
      "cell_type": "code",
      "source": [
        "def generate_embeddings_batch(texts):\n",
        "  try:\n",
        "    response = client.embeddings.create(\n",
        "      input=texts,\n",
        "      model=\"text-embedding-3-small\",\n",
        "      encoding_format=\"float\"\n",
        "    )\n",
        "    return [item.embedding for item in response.data]\n",
        "  except Exception as e:\n",
        "    print(f\"Error generating embeddings: {e}\")\n",
        "    return []"
      ],
      "metadata": {
        "id": "8NbVEAd3BRo_"
      },
      "execution_count": 35,
      "outputs": []
    },
    {
      "cell_type": "code",
      "source": [
        "BATCH_SIZE = 128"
      ],
      "metadata": {
        "id": "tfyfKct9vw14"
      },
      "execution_count": 36,
      "outputs": []
    },
    {
      "cell_type": "code",
      "source": [
        "len(processed_data)"
      ],
      "metadata": {
        "colab": {
          "base_uri": "https://localhost:8080/"
        },
        "id": "TcmGkPdjvf_3",
        "outputId": "ddad7e7c-5787-4d2e-ed4e-4840a43cc428"
      },
      "execution_count": 37,
      "outputs": [
        {
          "output_type": "execute_result",
          "data": {
            "text/plain": [
              "211269"
            ]
          },
          "metadata": {},
          "execution_count": 37
        }
      ]
    },
    {
      "cell_type": "code",
      "source": [
        "# Calculate the maximum length of the `context` field\n",
        "max_context_length = max(len(item[\"context\"]) for item in processed_data)\n",
        "\n",
        "print(\"Maximum length of the context field:\", max_context_length)"
      ],
      "metadata": {
        "colab": {
          "base_uri": "https://localhost:8080/"
        },
        "id": "JKjlnmPwxfFy",
        "outputId": "bdbf7984-46b7-43de-dd80-c9bd8ecaedb0"
      },
      "execution_count": 43,
      "outputs": [
        {
          "output_type": "stream",
          "name": "stdout",
          "text": [
            "Maximum length of the context field: 5658\n"
          ]
        }
      ]
    },
    {
      "cell_type": "code",
      "source": [
        "# Calculate the maximum length of the `answer` field\n",
        "max_answer_length = max(len(item[\"answer\"]) for item in processed_data)\n",
        "\n",
        "print(\"Maximum length of the answer field:\", max_answer_length)"
      ],
      "metadata": {
        "colab": {
          "base_uri": "https://localhost:8080/"
        },
        "id": "y7XPRLLM0gyI",
        "outputId": "52d96085-54b2-454a-adf8-ce1e77288ece"
      },
      "execution_count": 47,
      "outputs": [
        {
          "output_type": "stream",
          "name": "stdout",
          "text": [
            "Maximum length of the answer field: 3340\n"
          ]
        }
      ]
    },
    {
      "cell_type": "code",
      "source": [
        "# Calculate the maximum length of the `question` field\n",
        "max_question_length = max(len(item[\"question\"]) for item in processed_data)\n",
        "\n",
        "print(\"Maximum length of the question field:\", max_question_length)"
      ],
      "metadata": {
        "colab": {
          "base_uri": "https://localhost:8080/"
        },
        "id": "OCxk27fk0nsw",
        "outputId": "bf65112e-e6b6-4760-a228-7d114189c395"
      },
      "execution_count": 48,
      "outputs": [
        {
          "output_type": "stream",
          "name": "stdout",
          "text": [
            "Maximum length of the question field: 664\n"
          ]
        }
      ]
    },
    {
      "cell_type": "code",
      "source": [
        "from langchain.text_splitter import RecursiveCharacterTextSplitter\n",
        "\n",
        "# Initialize the text splitter with chunk size and overlap\n",
        "splitter = RecursiveCharacterTextSplitter(chunk_size=500, chunk_overlap=50)\n",
        "\n",
        "# Function to preprocess each context and generate chunks\n",
        "def preprocess_and_chunk(context_data):\n",
        "    # question, answer, context, final_decision, labels, meshes = context_data\n",
        "    chunks = splitter.split_text(context_data['context'])\n",
        "    return [{\n",
        "        \"question\": context_data['question'],\n",
        "        \"answer\": context_data['answer'],\n",
        "        \"chunk\": chunk,\n",
        "        \"final_decision\": context_data['final_decision'],\n",
        "        \"labels\": context_data['labels'],\n",
        "        \"meshes\": context_data['meshes']\n",
        "    } for chunk in chunks]\n",
        "\n",
        "# Apply chunking to all contexts\n",
        "all_chunked_data = []\n",
        "for context_data in processed_data:\n",
        "    all_chunked_data.extend(preprocess_and_chunk(context_data))\n",
        "\n",
        "# Display a sample of the chunked data\n",
        "print(all_chunked_data[:3])"
      ],
      "metadata": {
        "colab": {
          "base_uri": "https://localhost:8080/"
        },
        "id": "KkjKOxFXjpyD",
        "outputId": "aab92eaa-a133-429e-e61c-8ecdacef71a9"
      },
      "execution_count": 42,
      "outputs": [
        {
          "output_type": "stream",
          "name": "stdout",
          "text": [
            "[{'question': 'Are group 2 innate lymphoid cells ( ILC2s ) increased in chronic rhinosinusitis with nasal polyps or eosinophilia?', 'answer': 'As ILC2s are elevated in patients with CRSwNP, they may drive nasal polyp formation in CRS. ILC2s are also linked with high tissue and blood eosinophilia and have a potential role in the activation and survival of eosinophils during the Th2 immune response. The association of innate lymphoid cells in CRS provides insights into its pathogenesis.', 'chunk': 'Chronic rhinosinusitis (CRS) is a heterogeneous disease with an uncertain pathogenesis. Group 2 innate lymphoid cells (ILC2s) represent a recently discovered cell population which has been implicated in driving Th2 inflammation in CRS; however, their relationship with clinical disease characteristics has yet to be investigated. The aim of this study was to identify ILC2s in sinus mucosa in patients with CRS and controls and compare ILC2s across characteristics of disease. A cross-sectional study', 'final_decision': 'yes', 'labels': ['BACKGROUND', 'OBJECTIVE', 'METHODS', 'RESULTS'], 'meshes': ['Adult', 'Aged', 'Antigens, Surface', 'Case-Control Studies', 'Chronic Disease', 'Eosinophilia', 'Female', 'Humans', 'Hypersensitivity', 'Immunity, Innate', 'Immunoglobulin E', 'Immunophenotyping', 'Leukocyte Count', 'Lymphocyte Subsets', 'Male', 'Middle Aged', 'Nasal Mucosa', 'Nasal Polyps', 'Neutrophil Infiltration', 'Patient Outcome Assessment', 'Rhinitis', 'Sinusitis', 'Young Adult']}, {'question': 'Are group 2 innate lymphoid cells ( ILC2s ) increased in chronic rhinosinusitis with nasal polyps or eosinophilia?', 'answer': 'As ILC2s are elevated in patients with CRSwNP, they may drive nasal polyp formation in CRS. ILC2s are also linked with high tissue and blood eosinophilia and have a potential role in the activation and survival of eosinophils during the Th2 immune response. The association of innate lymphoid cells in CRS provides insights into its pathogenesis.', 'chunk': 'of disease. A cross-sectional study of patients with CRS undergoing endoscopic sinus surgery was conducted. Sinus mucosal biopsies were obtained during surgery and control tissue from patients undergoing pituitary tumour resection through transphenoidal approach. ILC2s were identified as CD45(+) Lin(-) CD127(+) CD4(-) CD8(-) CRTH2(CD294)(+) CD161(+) cells in single cell suspensions through flow cytometry. ILC2 frequencies, measured as a percentage of CD45(+) cells, were compared across CRS', 'final_decision': 'yes', 'labels': ['BACKGROUND', 'OBJECTIVE', 'METHODS', 'RESULTS'], 'meshes': ['Adult', 'Aged', 'Antigens, Surface', 'Case-Control Studies', 'Chronic Disease', 'Eosinophilia', 'Female', 'Humans', 'Hypersensitivity', 'Immunity, Innate', 'Immunoglobulin E', 'Immunophenotyping', 'Leukocyte Count', 'Lymphocyte Subsets', 'Male', 'Middle Aged', 'Nasal Mucosa', 'Nasal Polyps', 'Neutrophil Infiltration', 'Patient Outcome Assessment', 'Rhinitis', 'Sinusitis', 'Young Adult']}, {'question': 'Are group 2 innate lymphoid cells ( ILC2s ) increased in chronic rhinosinusitis with nasal polyps or eosinophilia?', 'answer': 'As ILC2s are elevated in patients with CRSwNP, they may drive nasal polyp formation in CRS. ILC2s are also linked with high tissue and blood eosinophilia and have a potential role in the activation and survival of eosinophils during the Th2 immune response. The association of innate lymphoid cells in CRS provides insights into its pathogenesis.', 'chunk': 'of CD45(+) cells, were compared across CRS phenotype, endotype, inflammatory CRS subtype and other disease characteristics including blood eosinophils, serum IgE, asthma status and nasal symptom score. 35 patients (40% female, age 48 ± 17 years) including 13 with eosinophilic CRS (eCRS), 13 with non-eCRS and 9 controls were recruited. ILC2 frequencies were associated with the presence of nasal polyps (P = 0.002) as well as high tissue eosinophilia (P = 0.004) and eosinophil-dominant CRS (P =', 'final_decision': 'yes', 'labels': ['BACKGROUND', 'OBJECTIVE', 'METHODS', 'RESULTS'], 'meshes': ['Adult', 'Aged', 'Antigens, Surface', 'Case-Control Studies', 'Chronic Disease', 'Eosinophilia', 'Female', 'Humans', 'Hypersensitivity', 'Immunity, Innate', 'Immunoglobulin E', 'Immunophenotyping', 'Leukocyte Count', 'Lymphocyte Subsets', 'Male', 'Middle Aged', 'Nasal Mucosa', 'Nasal Polyps', 'Neutrophil Infiltration', 'Patient Outcome Assessment', 'Rhinitis', 'Sinusitis', 'Young Adult']}]\n"
          ]
        }
      ]
    },
    {
      "cell_type": "code",
      "source": [
        "len(all_chunked_data)"
      ],
      "metadata": {
        "colab": {
          "base_uri": "https://localhost:8080/"
        },
        "id": "WG9SaB_Cj5tT",
        "outputId": "5bbfdd63-2844-4067-dbc7-feac4a65d94a"
      },
      "execution_count": 40,
      "outputs": [
        {
          "output_type": "execute_result",
          "data": {
            "text/plain": [
              "726512"
            ]
          },
          "metadata": {},
          "execution_count": 40
        }
      ]
    },
    {
      "cell_type": "code",
      "source": [
        "def get_metadata(item):\n",
        "  return {\n",
        "        \"question\": item[\"question\"],\n",
        "        \"answer\": item[\"answer\"],\n",
        "        \"chunk\": item[\"chunk\"],\n",
        "        \"final_decision\": item[\"final_decision\"],\n",
        "        \"labels\": item[\"labels\"],\n",
        "        \"meshes\": item[\"meshes\"]\n",
        "    }\n",
        "\n",
        "# Since I stoped it, i need to retest it from the last row\n",
        "# if the index is empty, then it will begin from the first\n",
        "current_vector_count = index.describe_index_stats()\n",
        "total_vector_count = current_vector_count.total_vector_count\n",
        "print(total_vector_count)\n",
        "\n",
        "# stop_index = len(all_chunked_data)\n",
        "stop_index = 128 * 10\n",
        "batch_number = round((stop_index // BATCH_SIZE) + 0.4)\n",
        "for i in range(0, stop_index, BATCH_SIZE):\n",
        "    j = i + total_vector_count + 100000\n",
        "    print(f\"Processing batch {i // BATCH_SIZE + 1}/{batch_number}\")\n",
        "\n",
        "    batch = all_chunked_data[j:j + BATCH_SIZE]\n",
        "    print(f\"Batch size: {len(batch)}\")\n",
        "\n",
        "    if len(batch) == 0:\n",
        "        print(\"Empty batch, skipping...\")\n",
        "        continue\n",
        "\n",
        "    chunks = [item['chunk'] for item in batch]\n",
        "    metadata = (get_metadata(item) for item in batch)\n",
        "\n",
        "    vectors = generate_embeddings_batch(chunks)\n",
        "    print(f\"Generated {len(vectors)} vectors for {len(chunks)} chunks\")\n",
        "\n",
        "    if len(vectors) != len(chunks):\n",
        "        print(\"Mismatch in chunks and vectors, skipping batch...\")\n",
        "        continue\n",
        "\n",
        "    entries = [\n",
        "        (nextId(), vector, m)\n",
        "        for (m, chunk, vector) in zip(metadata, chunks, vectors)\n",
        "    ]\n",
        "\n",
        "    print(f\"Upserting {len(entries)} entries to Pinecone...\")\n",
        "    response = index.upsert(entries)\n",
        "    print(f\"Upsert response: {response}\\n\")"
      ],
      "metadata": {
        "colab": {
          "base_uri": "https://localhost:8080/"
        },
        "id": "M_X5V23YBbuc",
        "outputId": "4c2cd8ef-77e2-4d6f-8b67-c98ec2c5f5b0"
      },
      "execution_count": 54,
      "outputs": [
        {
          "output_type": "stream",
          "name": "stdout",
          "text": [
            "14080\n",
            "Processing batch 1/10\n",
            "Batch size: 128\n",
            "Generated 128 vectors for 128 chunks\n",
            "Upserting 128 entries to Pinecone...\n",
            "Upsert response: {'upserted_count': 128}\n",
            "\n",
            "Processing batch 2/10\n",
            "Batch size: 128\n",
            "Generated 128 vectors for 128 chunks\n",
            "Upserting 128 entries to Pinecone...\n",
            "Upsert response: {'upserted_count': 128}\n",
            "\n",
            "Processing batch 3/10\n",
            "Batch size: 128\n",
            "Generated 128 vectors for 128 chunks\n",
            "Upserting 128 entries to Pinecone...\n",
            "Upsert response: {'upserted_count': 128}\n",
            "\n",
            "Processing batch 4/10\n",
            "Batch size: 128\n",
            "Generated 128 vectors for 128 chunks\n",
            "Upserting 128 entries to Pinecone...\n",
            "Upsert response: {'upserted_count': 128}\n",
            "\n",
            "Processing batch 5/10\n",
            "Batch size: 128\n",
            "Generated 128 vectors for 128 chunks\n",
            "Upserting 128 entries to Pinecone...\n",
            "Upsert response: {'upserted_count': 128}\n",
            "\n",
            "Processing batch 6/10\n",
            "Batch size: 128\n",
            "Generated 128 vectors for 128 chunks\n",
            "Upserting 128 entries to Pinecone...\n",
            "Upsert response: {'upserted_count': 128}\n",
            "\n",
            "Processing batch 7/10\n",
            "Batch size: 128\n",
            "Generated 128 vectors for 128 chunks\n",
            "Upserting 128 entries to Pinecone...\n",
            "Upsert response: {'upserted_count': 128}\n",
            "\n",
            "Processing batch 8/10\n",
            "Batch size: 128\n",
            "Generated 128 vectors for 128 chunks\n",
            "Upserting 128 entries to Pinecone...\n",
            "Upsert response: {'upserted_count': 128}\n",
            "\n",
            "Processing batch 9/10\n",
            "Batch size: 128\n",
            "Generated 128 vectors for 128 chunks\n",
            "Upserting 128 entries to Pinecone...\n",
            "Upsert response: {'upserted_count': 128}\n",
            "\n",
            "Processing batch 10/10\n",
            "Batch size: 128\n",
            "Generated 128 vectors for 128 chunks\n",
            "Upserting 128 entries to Pinecone...\n",
            "Upsert response: {'upserted_count': 128}\n",
            "\n"
          ]
        }
      ]
    },
    {
      "cell_type": "code",
      "source": [
        "index.describe_index_stats()['total_vector_count']"
      ],
      "metadata": {
        "colab": {
          "base_uri": "https://localhost:8080/"
        },
        "id": "rqHdBagC812X",
        "outputId": "31f0e75d-037b-4f9b-d6bb-aeb28e946341"
      },
      "execution_count": 57,
      "outputs": [
        {
          "output_type": "execute_result",
          "data": {
            "text/plain": [
              "15360"
            ]
          },
          "metadata": {},
          "execution_count": 57
        }
      ]
    },
    {
      "cell_type": "markdown",
      "source": [
        "I will skip generating embeddings here for testing purposes, as the previous total_vector_count of 655,055 rows will suffice."
      ],
      "metadata": {
        "id": "tuZsICRSKu25"
      }
    },
    {
      "cell_type": "code",
      "source": [
        "from langchain_openai import OpenAIEmbeddings\n",
        "\n",
        "embeddings = OpenAIEmbeddings(\n",
        "    api_key = userdata.get('OPENAI_API_KEY'),\n",
        "    model=\"text-embedding-3-small\"\n",
        ")"
      ],
      "metadata": {
        "id": "rcvw3t1vPZ6x"
      },
      "execution_count": 56,
      "outputs": []
    },
    {
      "cell_type": "code",
      "source": [
        "from langchain_pinecone import PineconeVectorStore\n",
        "\n",
        "vector_store = PineconeVectorStore(index=index, embedding=embeddings)"
      ],
      "metadata": {
        "id": "g73vL6sRMVxz"
      },
      "execution_count": 58,
      "outputs": []
    },
    {
      "cell_type": "code",
      "source": [
        "dataset_name = \"PubMedQA\"\n",
        "assistant_name = \"Medical Assistant\"\n",
        "response_style = \"clear, concise, and accurate\"\n",
        "\n",
        "system_message = f\"\"\"\n",
        "You are a knowledgeable assistant, {assistant_name}, providing answers to medical questions based on the {dataset_name} dataset.\n",
        "When answering, ensure to use relevant information from medical research and literature, and base your responses on the provided context or previously shared answers.\n",
        "If you're unsure about the answer, reply with, \"Sorry, I don't know the answer.\"\n",
        "Always aim to provide {response_style} information. Avoid making up medical details or providing unsupported claims.\n",
        "\"\"\""
      ],
      "metadata": {
        "id": "XdH623m3cW7P"
      },
      "execution_count": 59,
      "outputs": []
    },
    {
      "cell_type": "code",
      "source": [
        "def generateCompletion(text, query):\n",
        "    response = client.chat.completions.create(\n",
        "        model=\"gpt-4\",\n",
        "        messages=[\n",
        "            {\"role\": \"system\", \"content\": system_message},\n",
        "            {\"role\": \"user\", \"content\": f\"Context: {text} Question: {query}\"}\n",
        "        ]\n",
        "    )\n",
        "    return response.choices[0].message.content"
      ],
      "metadata": {
        "id": "YOT1KNspc7qb"
      },
      "execution_count": 60,
      "outputs": []
    },
    {
      "cell_type": "code",
      "source": [
        "def queryData(queryVector):\n",
        "  query_response = index.query(\n",
        "    vector=queryVector,\n",
        "    top_k=3,\n",
        "    include_values=False,\n",
        "    include_metadata=True\n",
        "  )\n",
        "  matches = query_response.matches\n",
        "  combined_matches = \"\\n\".join([f\"{match.metadata['question']} {match.metadata['answer']}\" for match in matches])\n",
        "  # combined_matches = [f\"{match.metadata['question']} {match.metadata['answer']}\" for match in matches]\n",
        "  return combined_matches"
      ],
      "metadata": {
        "id": "v3SABZxFdgvo"
      },
      "execution_count": 61,
      "outputs": []
    },
    {
      "cell_type": "code",
      "source": [
        "query = \"What is a CT scan?\"\n",
        "query_embedding = generate_embeddings_batch([query])[0]\n",
        "results = queryData(query_embedding)\n",
        "print(results)"
      ],
      "metadata": {
        "colab": {
          "base_uri": "https://localhost:8080/"
        },
        "id": "pu0nm7v1dvJc",
        "outputId": "6b49b893-c823-440a-a4c7-92bf845c28c5"
      },
      "execution_count": 62,
      "outputs": [
        {
          "output_type": "stream",
          "name": "stdout",
          "text": [
            "Is video-Assisted Thoracoscopy Superior to Standard Computer Tomography of the Thorax for Selection of Patients With Spontaneous Pneumothorax for Bullectomy? CT detects ELCs >/=2 cm in 54% of the patients in whom VAT shows these abnormalities. If interventional therapy is deemed appropriate for first time or recurrent SP, VAT should be used since it is superior to CT in demonstrating the presence, number, and size of ELCs.\n",
            "Do real-time computed tomography image update for endoscopic skull base surgery? The xCAT intra-operative mobile volume computed tomography scanner is a technological advancement that can assist the endoscopic sinus surgeon when performing complex rhinological and skull base procedures.\n",
            "Is volume of new-onset thrombus associated with the development of postimplantation syndrome after endovascular aneurysm repair? The volume of new-onset thrombus is associated with the development of PIS after EVAR, whereas chronic mural thrombus appears to be an inert material. IMA patency and contrast medium volume are irrelevant to the inflammatory response after EVAR.\n"
          ]
        }
      ]
    },
    {
      "cell_type": "code",
      "source": [
        "comp = generateCompletion(results, query)"
      ],
      "metadata": {
        "id": "nO08qujJfwyG"
      },
      "execution_count": 63,
      "outputs": []
    },
    {
      "cell_type": "code",
      "source": [
        "print(comp)"
      ],
      "metadata": {
        "colab": {
          "base_uri": "https://localhost:8080/"
        },
        "id": "Ztf3MjNBgxvH",
        "outputId": "6b8b7c66-40fd-41e4-fae7-6b2e2e98153f"
      },
      "execution_count": 64,
      "outputs": [
        {
          "output_type": "stream",
          "name": "stdout",
          "text": [
            "A CT scan, also known as Computed Tomography scan, is a type of imaging test that uses a series of x-ray images taken from different angles around your body and uses computer processing to create cross-sectional images (slices) of the bones, blood vessels, and soft tissues inside your body. These images provide more detailed information than regular x-ray exams, helping doctors to diagnose and treat medical conditions.\n"
          ]
        }
      ]
    },
    {
      "cell_type": "code",
      "source": [],
      "metadata": {
        "id": "1ifzgXWNhrAy"
      },
      "execution_count": null,
      "outputs": []
    }
  ]
}